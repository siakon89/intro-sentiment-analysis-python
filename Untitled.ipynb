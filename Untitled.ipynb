{
 "cells": [
  {
   "cell_type": "code",
   "execution_count": 1,
   "metadata": {},
   "outputs": [],
   "source": [
    "# Import the TextBlob package\n",
    "from textblob import TextBlob"
   ]
  },
  {
   "cell_type": "code",
   "execution_count": 2,
   "metadata": {},
   "outputs": [
    {
     "name": "stdout",
     "output_type": "stream",
     "text": [
      "Sentiment(polarity=1.0, subjectivity=1.0)\n"
     ]
    }
   ],
   "source": [
    "# A simple sentiment analysis test\n",
    "# Create a TextBlob from a string or a text\n",
    "test_blob = TextBlob(\"This is an awesome day!\")\n",
    "\n",
    "# Extract sentiment from blob\n",
    "print(test_blob.sentiment)"
   ]
  },
  {
   "cell_type": "code",
   "execution_count": 3,
   "metadata": {},
   "outputs": [
    {
     "name": "stdout",
     "output_type": "stream",
     "text": [
      "Sentiment(polarity=-1.0, subjectivity=1.0)\n"
     ]
    }
   ],
   "source": [
    "# A negative text\n",
    "negative_blob = TextBlob(\"This is an awful day!\")\n",
    "\n",
    "# Extract sentiment from blob\n",
    "print(negative_blob.sentiment)"
   ]
  },
  {
   "cell_type": "code",
   "execution_count": 4,
   "metadata": {},
   "outputs": [
    {
     "name": "stdout",
     "output_type": "stream",
     "text": [
      "Sentiment(polarity=0.0, subjectivity=0.0)\n"
     ]
    }
   ],
   "source": [
    "# A more controversial text\n",
    "# A neutral text\n",
    "neutral_blob = TextBlob(\"My day is neutral\")\n",
    "\n",
    "# Extract sentiment from blob\n",
    "print(neutral_blob.sentiment)"
   ]
  },
  {
   "cell_type": "code",
   "execution_count": 5,
   "metadata": {},
   "outputs": [
    {
     "name": "stdout",
     "output_type": "stream",
     "text": [
      "Sentiment(polarity=-0.03636363636363636, subjectivity=0.4727272727272727)\n"
     ]
    }
   ],
   "source": [
    "# Anoter neutral text\n",
    "neutral_blob = TextBlob(\"My day is neither positive nor negative\")\n",
    "\n",
    "# Extract sentiment from blob\n",
    "print(neutral_blob.sentiment)"
   ]
  },
  {
   "cell_type": "code",
   "execution_count": null,
   "metadata": {
    "collapsed": true
   },
   "outputs": [],
   "source": []
  }
 ],
 "metadata": {
  "kernelspec": {
   "display_name": "Python 3",
   "language": "python",
   "name": "python3"
  },
  "language_info": {
   "codemirror_mode": {
    "name": "ipython",
    "version": 3
   },
   "file_extension": ".py",
   "mimetype": "text/x-python",
   "name": "python",
   "nbconvert_exporter": "python",
   "pygments_lexer": "ipython3",
   "version": "3.6.1"
  }
 },
 "nbformat": 4,
 "nbformat_minor": 2
}
